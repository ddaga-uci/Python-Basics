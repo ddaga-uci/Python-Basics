{
 "cells": [
  {
   "cell_type": "markdown",
   "metadata": {},
   "source": [
    "## Instructions: \n",
    "The purpose of this assignment is to help you practice what you've learned in class. \n",
    "\n",
    "To submit the assignment you can download the completed assignment in the .ipynb format from the notebook and upload the same on Canvas. If someone is not able to upload the file in .ipynb format, please upload the pdf or.html version."
   ]
  },
  {
   "cell_type": "markdown",
   "metadata": {},
   "source": [
    "#### Question 1 (25pts):\n",
    "\n",
    "Consider the string “data and program analytics”. Write a program to perform the following actions \n",
    "*\tFind the index of the character  ‘p’ in the given string\n",
    "*\tPrint the character which is present at index number seven\n",
    "*\tFind the length of the String\n",
    "*\tSplit the string at every occurrence of a whitespace\n",
    "*\tReplace the word “data” in the original string with “information” using a standard string manipulation function. Your output after the manipulation should be “information and program analytics”"
   ]
  },
  {
   "cell_type": "code",
   "execution_count": 2,
   "metadata": {},
   "outputs": [],
   "source": [
    "string_1 = \"data and program analytics\""
   ]
  },
  {
   "cell_type": "code",
   "execution_count": 3,
   "metadata": {},
   "outputs": [
    {
     "name": "stdout",
     "output_type": "stream",
     "text": [
      "9\n"
     ]
    }
   ],
   "source": [
    "#finding an printing index of p\n",
    "print(string_1.index('p'))"
   ]
  },
  {
   "cell_type": "code",
   "execution_count": 4,
   "metadata": {},
   "outputs": [
    {
     "name": "stdout",
     "output_type": "stream",
     "text": [
      "d\n"
     ]
    }
   ],
   "source": [
    "#Print the character which is present at index number seven\n",
    "print(string_1[7])"
   ]
  },
  {
   "cell_type": "code",
   "execution_count": 5,
   "metadata": {},
   "outputs": [
    {
     "name": "stdout",
     "output_type": "stream",
     "text": [
      "26\n"
     ]
    }
   ],
   "source": [
    "#Find the length of the String\n",
    "print(len(string_1))"
   ]
  },
  {
   "cell_type": "code",
   "execution_count": 6,
   "metadata": {},
   "outputs": [
    {
     "name": "stdout",
     "output_type": "stream",
     "text": [
      "['data', 'and', 'program', 'analytics']\n"
     ]
    }
   ],
   "source": [
    "#Split the string at every occurrence of a whitespace\n",
    "print(string_1.split())"
   ]
  },
  {
   "cell_type": "code",
   "execution_count": 7,
   "metadata": {
    "scrolled": true
   },
   "outputs": [
    {
     "data": {
      "text/plain": [
       "'information and program analytics'"
      ]
     },
     "execution_count": 7,
     "metadata": {},
     "output_type": "execute_result"
    }
   ],
   "source": [
    "#Replace the word “data” in the original string with “information” using a standard string manipulation function. \n",
    "#Your output after the manipulation should be “information and program analytics”\n",
    "string_2 = string_1.replace('data', 'information')\n",
    "string_2"
   ]
  },
  {
   "cell_type": "markdown",
   "metadata": {},
   "source": [
    "#### Question 2 (15 pts):\t\n",
    "\n",
    "List1 = [3, 4, 5, 20, 5]\n",
    "\n",
    "* Find the index of the second 5\n",
    "* Find the last element of this list\n"
   ]
  },
  {
   "cell_type": "code",
   "execution_count": 8,
   "metadata": {},
   "outputs": [],
   "source": [
    "#part1  Find the index of the second 5\n",
    "x = [3, 4, 5, 20, 5]"
   ]
  },
  {
   "cell_type": "code",
   "execution_count": 9,
   "metadata": {},
   "outputs": [],
   "source": [
    "#Part 1 finding the indexes for all occurance \n",
    "index=[]\n",
    "for i in range(5):\n",
    "    if(x[i] == 5): \n",
    "        index.append(i)"
   ]
  },
  {
   "cell_type": "code",
   "execution_count": 10,
   "metadata": {},
   "outputs": [
    {
     "name": "stdout",
     "output_type": "stream",
     "text": [
      "4\n"
     ]
    }
   ],
   "source": [
    "#printing part1 second occurance of 5\n",
    "print(index[-1])"
   ]
  },
  {
   "cell_type": "code",
   "execution_count": 11,
   "metadata": {},
   "outputs": [
    {
     "name": "stdout",
     "output_type": "stream",
     "text": [
      "5\n"
     ]
    }
   ],
   "source": [
    "#part1 Find the last element of this list\n",
    "print(x[-1])"
   ]
  },
  {
   "cell_type": "markdown",
   "metadata": {},
   "source": [
    "#### Question 3 (15 pts):\n",
    "\n",
    "Set1 = {1, 2, 3, 4}, Set2={4, 5, 6}\n",
    "*\tPrint all elements that appear in both sets\n",
    "*\tPrint those elements that appear in either set\n",
    "*\tPrint all elements that appear in Set1 but not Set2"
   ]
  },
  {
   "cell_type": "code",
   "execution_count": 12,
   "metadata": {},
   "outputs": [],
   "source": [
    "#define set1\n",
    "set1 = {1, 2, 3, 4}\n",
    "#define set2\n",
    "set2 = {4, 5, 6}"
   ]
  },
  {
   "cell_type": "code",
   "execution_count": 13,
   "metadata": {},
   "outputs": [
    {
     "name": "stdout",
     "output_type": "stream",
     "text": [
      "The elements that appear in both the sets is = {4}\n"
     ]
    }
   ],
   "source": [
    "#print all elements that appear in both the sets\n",
    "print(\"The elements that appear in both the sets is =\",set1.intersection(set2))"
   ]
  },
  {
   "cell_type": "code",
   "execution_count": 14,
   "metadata": {},
   "outputs": [
    {
     "name": "stdout",
     "output_type": "stream",
     "text": [
      "The elements that appear in either set are = {1, 2, 3, 4, 5, 6}\n"
     ]
    }
   ],
   "source": [
    "#print  those elements that appear in either set\n",
    "print(\"The elements that appear in either set are =\",set1.union(set2))"
   ]
  },
  {
   "cell_type": "code",
   "execution_count": 15,
   "metadata": {},
   "outputs": [],
   "source": [
    "#print all elements that appear in Set1 but not Set2\n",
    "set3 = set1 - set2"
   ]
  },
  {
   "cell_type": "code",
   "execution_count": 16,
   "metadata": {},
   "outputs": [
    {
     "name": "stdout",
     "output_type": "stream",
     "text": [
      "The elements that appear in set1 but not in set2 are = {1, 2, 3}\n"
     ]
    }
   ],
   "source": [
    "print(\"The elements that appear in set1 but not in set2 are =\", set3)"
   ]
  },
  {
   "cell_type": "markdown",
   "metadata": {},
   "source": [
    "#### Question 4 (15 pts):\t\n",
    "\n",
    "L = [('',), (), ('apple', 1), (), (\"Paul\", \"Merage', 2020, \"MSBA212\"), (\"d\")]\n",
    "\n",
    "Write a Python program to remove an empty tuple(s) from a list of tuples.\n",
    "\n",
    "Expected outcome is:\n",
    "\n",
    "[('',), ('apple', 1), ('Paul', 'Merage', 2020, 'MSBA212'), 'd']"
   ]
  },
  {
   "cell_type": "code",
   "execution_count": 17,
   "metadata": {},
   "outputs": [],
   "source": [
    "L = [('',), (), ('apple', 1), (), (\"Paul\", \"Merage\", 2020, \"MSBA212\"), (\"d\")]                              "
   ]
  },
  {
   "cell_type": "code",
   "execution_count": 18,
   "metadata": {},
   "outputs": [
    {
     "name": "stdout",
     "output_type": "stream",
     "text": [
      "[('',), ('apple', 1), ('Paul', 'Merage', 2020, 'MSBA212'), 'd']\n"
     ]
    }
   ],
   "source": [
    "for x in L:\n",
    "    if x == ():\n",
    "        L.remove(x)\n",
    "print(L)"
   ]
  },
  {
   "cell_type": "markdown",
   "metadata": {},
   "source": [
    "#### Question 5 (15 pts): \n",
    "\n",
    "* Reverse words in the string \"one apple a day keeps the doctors away\" and print the new string\n",
    "* Sort the words in the string \"one apple a day keeps the doctors away\" alphabetically and then print the new string."
   ]
  },
  {
   "cell_type": "code",
   "execution_count": 19,
   "metadata": {},
   "outputs": [
    {
     "name": "stdout",
     "output_type": "stream",
     "text": [
      "away doctors the keeps day a apple one\n"
     ]
    }
   ],
   "source": [
    "#definign initial string\n",
    "string1 = 'one apple a day keeps the doctors away'\n",
    "#reversing the string\n",
    "r = ' '.join(reversed(string1.split(' ')))\n",
    "#printing the reversed string\n",
    "print(r)"
   ]
  },
  {
   "cell_type": "code",
   "execution_count": 20,
   "metadata": {},
   "outputs": [
    {
     "name": "stdout",
     "output_type": "stream",
     "text": [
      "a apple away day doctors keeps one the\n"
     ]
    }
   ],
   "source": [
    "#definign initial string\n",
    "string1 = \"one apple a day keeps the doctors away\"\n",
    "#Sorting the string alphabetically \n",
    "string_words = string1.split()\n",
    "string_words.sort()\n",
    "new_stirng = \" \".join(string_words)\n",
    "print(new_stirng)"
   ]
  },
  {
   "cell_type": "markdown",
   "metadata": {
    "collapsed": true
   },
   "source": [
    "#### Question 6 (15 pts):\n",
    "Two given lists [1,2,4,8,5,10] and [2,4,5,8,12,15], write a program to make a list whose elements are intersection of the above given lists."
   ]
  },
  {
   "cell_type": "code",
   "execution_count": 21,
   "metadata": {},
   "outputs": [
    {
     "data": {
      "text/plain": [
       "[2, 4, 8, 5]"
      ]
     },
     "execution_count": 21,
     "metadata": {},
     "output_type": "execute_result"
    }
   ],
   "source": [
    "#defining the intersection\n",
    "def intersection(lst1, lst2): \n",
    "    lst3 = [value for value in lst1 if value in lst2] \n",
    "    return lst3 \n",
    "#defining list1\n",
    "lst1 = [1,2,4,8,5,10] \n",
    "#defining list2\n",
    "lst2 =  [2,4,5,8,12,15]\n",
    "intersection(lst1, lst2)"
   ]
  }
 ],
 "metadata": {
  "kernelspec": {
   "display_name": "Python 3 (ipykernel)",
   "language": "python",
   "name": "python3"
  },
  "language_info": {
   "codemirror_mode": {
    "name": "ipython",
    "version": 3
   },
   "file_extension": ".py",
   "mimetype": "text/x-python",
   "name": "python",
   "nbconvert_exporter": "python",
   "pygments_lexer": "ipython3",
   "version": "3.9.6"
  }
 },
 "nbformat": 4,
 "nbformat_minor": 2
}
