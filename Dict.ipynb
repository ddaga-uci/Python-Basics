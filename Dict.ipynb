{
 "cells": [
  {
   "cell_type": "markdown",
   "metadata": {},
   "source": [
    "## Instructions: \n",
    "The purpose of this assignment is to help you practice what you've learned in class. \n",
    "\n",
    "To submit the assignment you can download the completed assignment in the .ipynb format from the notebook and upload the same on Canvas. If someone is not able to upload the file in .ipynb format, please upload the pdf or.html version."
   ]
  },
  {
   "cell_type": "markdown",
   "metadata": {},
   "source": [
    "#### Question 1 (20pts):\t\n",
    "Create a dictionary of the form {“Jordan”: “Basketball”, “Federer”: “Tennis”, “Ronaldo”: “Football”} and perform the following actions \n",
    "*\tPrint all the keys in the dictionary\n",
    "*\tPrint all the values in the dictionary\n",
    "*\tIterate through the dictionary and print the value only if the key is “Federer”\n",
    "*\tIterate through the dictionary and print the key only if the value is  “Football”"
   ]
  },
  {
   "cell_type": "code",
   "execution_count": 65,
   "metadata": {},
   "outputs": [
    {
     "name": "stdout",
     "output_type": "stream",
     "text": [
      "{'Jordan': 'Basketball', 'Federer': 'Tennis', 'Ronaldo': 'Football'}\n"
     ]
    }
   ],
   "source": [
    "#Creating the dictionary\n",
    "Dir_1 =  {\"Jordan\": \"Basketball\", \"Federer\": \"Tennis\", \"Ronaldo\": \"Football\"} \n",
    "print(Dir_1)"
   ]
  },
  {
   "cell_type": "code",
   "execution_count": 66,
   "metadata": {
    "scrolled": true
   },
   "outputs": [
    {
     "data": {
      "text/plain": [
       "dict_keys(['Jordan', 'Federer', 'Ronaldo'])"
      ]
     },
     "execution_count": 66,
     "metadata": {},
     "output_type": "execute_result"
    }
   ],
   "source": [
    "#Answeing - Print all the keys in the dictionary\n",
    "Dir_1.keys()"
   ]
  },
  {
   "cell_type": "code",
   "execution_count": 67,
   "metadata": {},
   "outputs": [
    {
     "data": {
      "text/plain": [
       "dict_values(['Basketball', 'Tennis', 'Football'])"
      ]
     },
     "execution_count": 67,
     "metadata": {},
     "output_type": "execute_result"
    }
   ],
   "source": [
    "#Answering - Print all the values in the dictionary\n",
    "Dir_1.values()"
   ]
  },
  {
   "cell_type": "code",
   "execution_count": 68,
   "metadata": {
    "scrolled": true
   },
   "outputs": [
    {
     "name": "stdout",
     "output_type": "stream",
     "text": [
      "The value for Federer is Tennis\n"
     ]
    }
   ],
   "source": [
    "#Answering - Iterate through the dictionary and print the value only if the key is “Federer”\n",
    "for k,v in Dir_1.items():\n",
    "    if k == \"Federer\":\n",
    "        print(\"The value for Federer is\", v)"
   ]
  },
  {
   "cell_type": "code",
   "execution_count": 69,
   "metadata": {},
   "outputs": [
    {
     "name": "stdout",
     "output_type": "stream",
     "text": [
      "The key for Football is Ronaldo\n"
     ]
    }
   ],
   "source": [
    "#Iterate through the dictionary and print the key only if the value is “Football”\n",
    "for k,v in Dir_1.items():\n",
    "    if v == \"Football\":\n",
    "        print(\"The key for Football is\", k)"
   ]
  },
  {
   "cell_type": "markdown",
   "metadata": {},
   "source": [
    "#### Question 2 (15pts):\t\n",
    "\n",
    "List1 = [3, 4, 5, 20, 5]\n",
    "\n",
    "List2 = [4, 9, 6, 2, 10]. \n",
    "\n",
    "Using list comprehensions, print the output if you multiply the i-th element of each list"
   ]
  },
  {
   "cell_type": "code",
   "execution_count": 70,
   "metadata": {},
   "outputs": [
    {
     "name": "stdout",
     "output_type": "stream",
     "text": [
      "[3, 4, 5, 20, 5]\n",
      "[4, 9, 6, 2, 10]\n"
     ]
    }
   ],
   "source": [
    "#Defining lists\n",
    "List1 = [3, 4, 5, 20, 5]\n",
    "List2 = [4, 9, 6, 2, 10]\n",
    "print(List1)\n",
    "print(List2)"
   ]
  },
  {
   "cell_type": "code",
   "execution_count": 71,
   "metadata": {},
   "outputs": [
    {
     "name": "stdout",
     "output_type": "stream",
     "text": [
      "The output if you multiply the i-th element of both the list is [12, 36, 30, 40, 50]\n"
     ]
    }
   ],
   "source": [
    "#creating output from list comprehension for i-th element multiplied\n",
    "output = [x*y for x,y in zip(List1,List2)]\n",
    "print(\"The output if you multiply the i-th element of both the list is\", output)"
   ]
  },
  {
   "cell_type": "markdown",
   "metadata": {},
   "source": [
    "#### Question 3 (15pts):\t\n",
    "\n",
    "Dic1 = {\"John\":10, \"Joe\":15}\n",
    "*\tCheck whether “John” is one of the keys\n",
    "*\tRemove the key “Joe” along with its associated value \n",
    "*\tAdd another key and value pair - “Jean”: 40"
   ]
  },
  {
   "cell_type": "code",
   "execution_count": 81,
   "metadata": {},
   "outputs": [
    {
     "name": "stdout",
     "output_type": "stream",
     "text": [
      "John - The key is there in Dic1\n"
     ]
    }
   ],
   "source": [
    "#Defining dic1\n",
    "Dic1 = {\"John\":10, \"Joe\":15}\n",
    "\n",
    "#Checking whether “John” is one of the keys\n",
    "if \"John\" in Dic1.keys():\n",
    "    print (\"John - The key is there in Dic1\")"
   ]
  },
  {
   "cell_type": "code",
   "execution_count": 73,
   "metadata": {},
   "outputs": [
    {
     "name": "stdout",
     "output_type": "stream",
     "text": [
      "15\n",
      "Remaining items in Dic1 are {'John': 10}\n"
     ]
    }
   ],
   "source": [
    "#Remove the key “Joe” along with its associated value\n",
    "removed_pair = Dic1.pop('Joe')\n",
    "\n",
    "print(removed_pair)\n",
    "\n",
    "print(\"Remaining items in Dic1 are\", Dic1)"
   ]
  },
  {
   "cell_type": "code",
   "execution_count": 74,
   "metadata": {},
   "outputs": [
    {
     "name": "stdout",
     "output_type": "stream",
     "text": [
      "The update dictonary is {'John': 10, 'Jean': 40}\n"
     ]
    }
   ],
   "source": [
    "#Add another key and value pair - “Jean”: 40\n",
    "Dic1[\"Jean\"] = 40\n",
    "\n",
    "#Printing the result\n",
    "print(\"The update dictonary is\", Dic1)"
   ]
  },
  {
   "cell_type": "markdown",
   "metadata": {},
   "source": [
    "#### Question 4 (15pts):\t \n",
    "\n",
    "* Write a user defined function to find the highest of the three numbers: 30, 10 and 20. The highest number should be printed. Note: The function has to be user defined.\n",
    "\n",
    "* With a given integral number n, write a program to generate a dictionary that contains key value pairs such as i: 2^i, and i takes values between 1 and n (both included). Then print the dictionary.\n",
    "\n",
    "Suppose the following input is supplied to the program:\n",
    "\n",
    "4\n",
    "\n",
    "Then, the output should be:\n",
    "\n",
    "{1: 2, 2: 4, 3: 8, 4: 16}"
   ]
  },
  {
   "cell_type": "code",
   "execution_count": 75,
   "metadata": {},
   "outputs": [],
   "source": [
    "#Write a user defined function to find the highest of the three numbers: \n",
    "#30, 10 and 20. The highest number should be printed. Note: The function has to be user defined.\n",
    "Q4 = [30,10,20]"
   ]
  },
  {
   "cell_type": "code",
   "execution_count": 76,
   "metadata": {
    "scrolled": true
   },
   "outputs": [
    {
     "name": "stdout",
     "output_type": "stream",
     "text": [
      "The highest number in list Q4 is 30\n"
     ]
    }
   ],
   "source": [
    "#A user defined function to find the highest of the three numbers: 30, 10 and 20\n",
    "def highest_number(x):\n",
    "    y = sorted(x)\n",
    "    print(\"The highest number in list Q4 is\",y[-1])\n",
    "    \n",
    "highest_number(Q4)"
   ]
  },
  {
   "cell_type": "code",
   "execution_count": 77,
   "metadata": {
    "scrolled": true
   },
   "outputs": [
    {
     "data": {
      "text/plain": [
       "{1: 2, 2: 4, 3: 8, 4: 16}"
      ]
     },
     "execution_count": 77,
     "metadata": {},
     "output_type": "execute_result"
    }
   ],
   "source": [
    "#With a given integral number n, write a program to generate a dictionary that contains key value pairs such as i: 2^i, \n",
    "#and i takes values between 1 and n (both included). Then print the dictionary.\n",
    "def dict_generator(n):\n",
    "    Dict4 = {}\n",
    "    for x in range(1,n+1):\n",
    "        Dict4[x] = 2**x\n",
    "    return(Dict4)\n",
    "\n",
    "dict_generator(4)\n"
   ]
  },
  {
   "cell_type": "markdown",
   "metadata": {},
   "source": [
    "#### Question 5 (20pts):\t\n",
    "\n",
    "* Using list comprehensions, print all the values between 1 and 10 that are divisible by 2. The output should be [2, 4, 6, 8].\n",
    "\n",
    "*  By using list comprehension, please write a program to print the list after removing the value 24 in [12,24,35,24,88,120,155]."
   ]
  },
  {
   "cell_type": "code",
   "execution_count": 78,
   "metadata": {},
   "outputs": [
    {
     "name": "stdout",
     "output_type": "stream",
     "text": [
      "[2, 4, 6, 8]\n"
     ]
    }
   ],
   "source": [
    "#Using list comprehensions, print all the values between 1 and 10 that are divisible by 2.\n",
    "#The output should be [2, 4, 6, 8].\n",
    "Q5 = [i for i in range(1,10) if i%2 == 0]\n",
    "print(Q5)        "
   ]
  },
  {
   "cell_type": "code",
   "execution_count": 79,
   "metadata": {},
   "outputs": [
    {
     "name": "stdout",
     "output_type": "stream",
     "text": [
      "[12, 35, 88, 120, 155]\n"
     ]
    }
   ],
   "source": [
    "#By using list comprehension, please write a program to print \n",
    "#the list after removing the value 24 in [12,24,35,24,88,120,155].\n",
    "l5 = [12,24,35,24,88,120,155]\n",
    "Q5_2 = [ i for i in l5 if i != 24]\n",
    "print(Q5_2)"
   ]
  },
  {
   "cell_type": "markdown",
   "metadata": {},
   "source": [
    "#### Question 6 (15pts): \n",
    "\n",
    "Remove the last value in [12,24,35,24,88,120,155] consecutively and print the removed value in each removal."
   ]
  },
  {
   "cell_type": "code",
   "execution_count": 80,
   "metadata": {},
   "outputs": [
    {
     "name": "stdout",
     "output_type": "stream",
     "text": [
      "Removing 155\n",
      "[12, 24, 35, 24, 88, 120]\n",
      "Removing 120\n",
      "[12, 24, 35, 24, 88]\n",
      "Removing 88\n",
      "[12, 24, 35, 24]\n",
      "Removing 24\n",
      "[12, 24, 35]\n",
      "Removing 35\n",
      "[12, 24]\n",
      "Removing 24\n",
      "[12]\n",
      "Removing 12\n",
      "[]\n"
     ]
    }
   ],
   "source": [
    "l1 = [12,24,35,24,88,120,155] \n",
    "\n",
    "for i in range(0,len(l1)):\n",
    "    print(\"Removing\", l1.pop(-1))\n",
    "    print(l1)"
   ]
  }
 ],
 "metadata": {
  "kernelspec": {
   "display_name": "Python 3",
   "language": "python",
   "name": "python3"
  },
  "language_info": {
   "codemirror_mode": {
    "name": "ipython",
    "version": 3
   },
   "file_extension": ".py",
   "mimetype": "text/x-python",
   "name": "python",
   "nbconvert_exporter": "python",
   "pygments_lexer": "ipython3",
   "version": "3.8.3"
  }
 },
 "nbformat": 4,
 "nbformat_minor": 2
}
