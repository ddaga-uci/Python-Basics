{
 "cells": [
  {
   "cell_type": "markdown",
   "metadata": {},
   "source": [
    "## BANA212 Midterm 2020\n",
    "\n",
    "* Time: 8am PST (Saturday, November 14, 2020) to 8pm PST (Sunday, November 15, 2020)\n",
    "* Submission: please upload both .ipynb file and .html file on Canvas under Assignments -> Midterm\n",
    "* You are required to answer all questions.\n",
    "* This is a “open book, open computer” exam\n",
    "* You should solve those problems on your own. You are allowed to \"google\" or do your own research on the internet, but you are not allowed to seek help from others, including but not limited to family members, friends, classmates and so forth.\n",
    "* Please be as succinct as possible in answering the questions.\n",
    "* The total score is 100 points.\n",
    "\n",
    "\n",
    "\n",
    "\n",
    "\n"
   ]
  },
  {
   "cell_type": "markdown",
   "metadata": {},
   "source": [
    "### Please initial here that if you agree to comply to the UCI Academic Honesty Policy:________\n"
   ]
  },
  {
   "cell_type": "markdown",
   "metadata": {},
   "source": [
    "### Part I. Multiple Choices and Short-Answer Questions (25 pts)"
   ]
  },
  {
   "cell_type": "markdown",
   "metadata": {},
   "source": [
    "### Q1. Which of the following has a different number of iterations?"
   ]
  },
  {
   "cell_type": "code",
   "execution_count": null,
   "metadata": {},
   "outputs": [],
   "source": [
    "#a)\n",
    "i = 0\n",
    "while i <=100:\n",
    "    i = i+1"
   ]
  },
  {
   "cell_type": "code",
   "execution_count": null,
   "metadata": {},
   "outputs": [],
   "source": [
    "#b) \n",
    "for i in range(100):\n",
    "    print(\"Hi\")\n",
    "       "
   ]
  },
  {
   "cell_type": "code",
   "execution_count": null,
   "metadata": {},
   "outputs": [],
   "source": [
    "#c)      \n",
    "for i in range(100, 0, -1):\n",
    "    print(\"Hi\")\n",
    "      "
   ]
  },
  {
   "cell_type": "code",
   "execution_count": null,
   "metadata": {},
   "outputs": [],
   "source": [
    "#d) \n",
    "i=100\n",
    "while (i>0):\n",
    "    print(\"Hi\")\n",
    "    i = i-1"
   ]
  },
  {
   "cell_type": "code",
   "execution_count": null,
   "metadata": {},
   "outputs": [],
   "source": [
    "# Your Answer Here:\n",
    "# (A) has different iteration than others, it iterates 101 times, where as (B), (c) and (D) iterates 100 times"
   ]
  },
  {
   "cell_type": "markdown",
   "metadata": {},
   "source": [
    "### Q2. Write a list comprehension to take in a list and transform each word into its uppercase and also calculate the length of the word.\n",
    "\n",
    "str1 =[\"Merage\", \"Python\", \"programming\"]\n",
    "\n",
    "Expected output: [('MERAGE', 6), ('PYTHON', 6), ('PROGRAMMING', 11)]"
   ]
  },
  {
   "cell_type": "code",
   "execution_count": 3,
   "metadata": {},
   "outputs": [
    {
     "name": "stdout",
     "output_type": "stream",
     "text": [
      "[('MERAGE', 6), ('PYTHON', 6), ('PROGRAMMING', 11)]\n"
     ]
    }
   ],
   "source": [
    "# Your Answer Here:\n",
    "#Defining String1\n",
    "str1 =[\"Merage\", \"Python\", \"programming\"]\n",
    "\n",
    "#Transforming words from string1 into uppercase and calculating the lenght of the word using uppercase.\n",
    "Transformed = ([(x.upper(), (len(x))) for x in str1])\n",
    "print(Transformed)"
   ]
  },
  {
   "cell_type": "markdown",
   "metadata": {},
   "source": [
    "### Q3. How many iterations the following while loop will run (we assume we use Python 3.x)?"
   ]
  },
  {
   "cell_type": "code",
   "execution_count": 14,
   "metadata": {},
   "outputs": [],
   "source": [
    "i = 1000\n",
    "while i >1:\n",
    "    i = i/2"
   ]
  },
  {
   "cell_type": "markdown",
   "metadata": {},
   "source": [
    "a) 500\n",
    "\n",
    "b) 10\n",
    "\n",
    "c) 499\n",
    "\n",
    "d) 9\n",
    "\n",
    "e) 1001"
   ]
  },
  {
   "cell_type": "code",
   "execution_count": null,
   "metadata": {},
   "outputs": [],
   "source": [
    "# Your Answer Here:  \n",
    "#The answer is (b) 10 iterations. \n",
    "#The list of iteration is [500.0 250.0 125.0 62.5 31.25 15.625 7.8125 3.90625 1.953125 0.9765625 ]"
   ]
  },
  {
   "cell_type": "markdown",
   "metadata": {},
   "source": [
    "### Q4. Write a program which will find all such numbers which are divisible by 6 but are not a multiple of 5, between 1000 and 2000 (both included).\n",
    "\n",
    "The numbers obtained should be printed in a comma-separated sequence on a single line, such as \n",
    "n1, n2, n3, ..."
   ]
  },
  {
   "cell_type": "code",
   "execution_count": 13,
   "metadata": {},
   "outputs": [
    {
     "name": "stdout",
     "output_type": "stream",
     "text": [
      "1002,1008,1014,1026,1032,1038,1044,1056,1062,1068,1074,1086,1092,1098,1104,1116,1122,1128,1134,1146,1152,1158,1164,1176,1182,1188,1194,1206,1212,1218,1224,1236,1242,1248,1254,1266,1272,1278,1284,1296,1302,1308,1314,1326,1332,1338,1344,1356,1362,1368,1374,1386,1392,1398,1404,1416,1422,1428,1434,1446,1452,1458,1464,1476,1482,1488,1494,1506,1512,1518,1524,1536,1542,1548,1554,1566,1572,1578,1584,1596,1602,1608,1614,1626,1632,1638,1644,1656,1662,1668,1674,1686,1692,1698,1704,1716,1722,1728,1734,1746,1752,1758,1764,1776,1782,1788,1794,1806,1812,1818,1824,1836,1842,1848,1854,1866,1872,1878,1884,1896,1902,1908,1914,1926,1932,1938,1944,1956,1962,1968,1974,1986,1992,1998\n"
     ]
    }
   ],
   "source": [
    "# Your Solution Here:  \n",
    "nl=[]\n",
    "for x in range(1000, 2001):\n",
    "    if (x%6 == 0) and (x%5 != 0):\n",
    "        nl.append(str(x))\n",
    "list = (','.join(nl))\n",
    "print(list)"
   ]
  },
  {
   "cell_type": "markdown",
   "metadata": {},
   "source": [
    "### Q5. Write a program that accepts a sequence of whitespace separated words as input and prints the words after removing all duplicate words and sorting them alphanumerically.\n",
    "\n",
    "Example input:\n",
    "    \n",
    "Do not go where the path may lead, go instead where there is no path and leave a trail.\n",
    "\n",
    "Example output:\n",
    "\n",
    "Do a and go instead is lead, leave may no not path the there trail where"
   ]
  },
  {
   "cell_type": "code",
   "execution_count": 14,
   "metadata": {},
   "outputs": [
    {
     "name": "stdout",
     "output_type": "stream",
     "text": [
      "Type string in: Do not go where the path may lead, go instead where there is no path and leave a trail.\n",
      "Output: Do a and go instead is lead, leave may no not path the there trail. where\n"
     ]
    }
   ],
   "source": [
    "# Your Solution Here: \n",
    "line = input(\"Type string in: \")\n",
    "line_splited = line.split(' ')\n",
    "\n",
    "word_list = []\n",
    "for i in line_splited:\n",
    "    if i not in word_list:\n",
    "        word_list.append(i)\n",
    "    else:\n",
    "        continue\n",
    "word_list.sort()\n",
    "print(\"Output:\",(' ').join(word_list))"
   ]
  },
  {
   "cell_type": "markdown",
   "metadata": {},
   "source": [
    "### Part II. Travel Distance (15 pts)\n",
    "\n",
    "Suppose a person moves in a plane starting from the original point (0,0). He can move toward UP, DOWN, LEFT and RIGHT with a given steps. The trace of the movement is shown as the following:\n",
    "\n",
    "UP 6 steps\n",
    "\n",
    "DOWN 3 steps\n",
    "\n",
    "LEFT 5 steps\n",
    "\n",
    "RIGHT 1 steps\n",
    "\n",
    "\n",
    "Please write a program to compute the distance from current position after a sequence of movement and original point. \n",
    "\n",
    "Example Input:\n",
    "The following tuples are given as input to the program:\n",
    "\n",
    "UP 6\n",
    "\n",
    "DOWN 3\n",
    "\n",
    "LEFT 5\n",
    "\n",
    "RIGHT 1\n",
    "\n",
    "Expected Output:\n",
    "5"
   ]
  },
  {
   "cell_type": "code",
   "execution_count": 22,
   "metadata": {},
   "outputs": [
    {
     "name": "stdout",
     "output_type": "stream",
     "text": [
      "The distance from current position is 5.0\n"
     ]
    }
   ],
   "source": [
    "# Your Solution Here: \n",
    "import math\n",
    "#Init vars\n",
    "pos=[0,0]\n",
    "moves={\"UP\":[0,1],\n",
    "       \"DOWN\":[0,-1],\n",
    "       \"LEFT\":[-1,0],\n",
    "       \"RIGHT\":[1,0]}\n",
    "\n",
    "#Set inputs\n",
    "data=[\"UP 6\",\n",
    "    \"DOWN 3\",\n",
    "    \"LEFT 5\",\n",
    "    \"RIGHT 1\"]\n",
    "\n",
    "#Move person on valid moves\n",
    "for step in data:\n",
    "    parts= step.split()    \n",
    "    mv=parts[0]\n",
    "    val=parts[1]\n",
    "    if mv in moves and val.isnumeric():\n",
    "        pos[0] += moves[mv][0]*int(val)\n",
    "        pos[1] += moves[mv][1]*int(val)\n",
    "\n",
    "#get distance     \n",
    "distance=math.sqrt(pos[0]**2 + pos[1]**2)\n",
    "print(\"The distance from current position is\", distance)\n"
   ]
  },
  {
   "cell_type": "markdown",
   "metadata": {},
   "source": [
    "## Part III. Discussion Groups (30 pts)\n",
    "\n",
    "As a teacher, you would like to combine three sections to form discussion groups. However, since you want to foster collabation between the three sections, you are writing a program to determine if too many students from the same section are together.\n",
    "\n",
    "Input:\n",
    "\n",
    "Your program takes in a string input of \"A\" (Section A students), \"B\" (Section B students), and \"C\" (Section C students) in a line. ex: AAAABBBBCCCCAAAABBBBCCBBBAAACCCCABBBAAACCCC\n",
    "\n",
    "Output:\n",
    "\n",
    "Print the section name and number of instances where there are 8 or more students from the same section next to each other without a student from another section between them."
   ]
  },
  {
   "cell_type": "code",
   "execution_count": null,
   "metadata": {},
   "outputs": [],
   "source": [
    "#Example Input:\n",
    "AACCCCCCCCCCCCCAAAABBBCCCBBAAAAAAAAAAAAAAACCCAAAAAAAAAAAAAAABBBAAABACCCC"
   ]
  },
  {
   "cell_type": "code",
   "execution_count": null,
   "metadata": {},
   "outputs": [],
   "source": [
    "#Example Output:\n",
    "Section A: 2 #There are two instances where there are 8 or more Section A students next to one another\n",
    "Section B: 0 #There are zero instances where there are 8 or more Section B students next to one another\n",
    "Section C: 1 #There is one instance where there are 8 or more Section C students next to one another"
   ]
  },
  {
   "cell_type": "code",
   "execution_count": 17,
   "metadata": {},
   "outputs": [
    {
     "name": "stdout",
     "output_type": "stream",
     "text": [
      "Input section distribution:AACCCCCCCCCCCCCAAAABBBCCCBBAAAAAAAAAAAAAAACCCAAAAAAAAAAAAAAABBBAAABACCCC\n",
      "Section A: 2\n",
      "Section B: 0\n",
      "Section C: 1\n"
     ]
    }
   ],
   "source": [
    "#Solution Here:\n",
    "sec_input = input('Input section distribution:') \n",
    "result_dict = {'A':0, 'B':0, 'C': 0} # creating dictonary for sections and count's key value pairs\n",
    "section = '' \n",
    "checker = 0 # starting checker for counting section instances\n",
    "for group in sec_input:\n",
    "    checker += 1\n",
    "    if group != section:\n",
    "        section = group\n",
    "        if checker >= 8:\n",
    "            result_dict[sec_input[sec_input.index(group) - 1]] += 1\n",
    "        checker = 0\n",
    "for key in result_dict.keys():\n",
    "    print('Section {}: {}'.format(key, result_dict[key])) # adding result key and its count into the result_dict"
   ]
  },
  {
   "cell_type": "markdown",
   "metadata": {},
   "source": [
    "### Part IV. Login Information (30 pts)\n",
    "\n",
    "Your boss wants you to create a program that can take a user's email from their biography, create a password for the user, and save it into a dictionary for later use. The email will be in the form alphabetic@uci.edu (no numbers, all lowercase). The username is the characters before the domain name (ie. johnsmith in the email johnsmith@uci.edu). To create the password, you need to alter the username with ROT13. \n",
    "\n",
    "ROT13 (rotate by 13 places) is a simple substitution cipher that replaces a letter with the 13th letter after it in the alphabet. For example, \"j\" is the 10th letter in the alphabet. Altering \"j\" with ROT13 will get the 23rd (10 + 13 = 23) letter of the alphabet, \"w\". Likewise, if you altered \"w\" with ROT13, you will get the 10th (23 + 13 = 46 - 26 = 10) letter of the alphabet, \"j\". Thus in our example with johnsmith@uci.edu, the password will be \"wbuafzvgu\". Save both the username and password in a dictionary.\n",
    "\n",
    "Input:\n",
    "\n",
    "The input will be several sentences on a single line containing exactly one email within the biography with the form: alphabetic@uci.edu.\n",
    "\n",
    "Output:\n",
    "\n",
    "Print your dictionary which contains \"username\":<username> and \"password\":<password>"
   ]
  },
  {
   "cell_type": "code",
   "execution_count": null,
   "metadata": {},
   "outputs": [],
   "source": [
    "#Example Input: \n",
    "Tingting Nian, Assistant Professor at The Paul Merage School of Business at University of California, Irvine, studies social media, online communities and economics of digital goods. Her prior research has won the 2014 INFORMS Conference on Information Systems and Technology Best Conference Paper Award and a WCAI Research Award from Wharton Customer Analytics Initiative. Her email is tnian@uci.edu. She received her PhD in Business Administration (specialized in Information Systems) from Leonard N. Stern School of Business at NYU in 2015 and holds a Bachelor’s degree in Business Administration from Tsinghua University."
   ]
  },
  {
   "cell_type": "code",
   "execution_count": null,
   "metadata": {},
   "outputs": [],
   "source": [
    "#Example Output:\n",
    "{'username':'tnian', 'password':'gavna'}"
   ]
  },
  {
   "cell_type": "code",
   "execution_count": 19,
   "metadata": {},
   "outputs": [
    {
     "name": "stdout",
     "output_type": "stream",
     "text": [
      "Enter user Bio:Tingting Nian, Assistant Professor at The Paul Merage School of Business at University of California, Irvine, studies social media, online communities and economics of digital goods. Her prior research has won the 2014 INFORMS Conference on Information Systems and Technology Best Conference Paper Award and a WCAI Research Award from Wharton Customer Analytics Initiative. Her email is tnian@uci.edu. She received her PhD in Business Administration (specialized in Information Systems) from Leonard N. Stern School of Business at NYU in 2015 and holds a Bachelor’s degree in Business Administration from Tsinghua University.\n",
      "\n",
      "User ID & Password: \n",
      "{'username': 'tnian', 'password': 'gavna'}\n"
     ]
    }
   ],
   "source": [
    "#Solution Here:\n",
    "import re\n",
    "Bio_input = input('Enter user Bio:')\n",
    "#finding email from bio\n",
    "email = re.findall(r\"[a-z0-9]*@[a-z]*\\.?[a-z]*\\.?\\w+\", Bio_input) \n",
    "\n",
    " #finding username from email\n",
    "user_name = email[0].split('@')[0] \n",
    "\n",
    "#creating password using ROT13 and adding the username and password to a dictonary and printing it\n",
    "abc = \"abcdefghijklmnopqrstuvwxyz\"\n",
    "Output = dict(username = user_name, password = \"\".join([abc[(abc.find(c)+13)%26] for c in user_name])) \n",
    "print('\\nUser ID & Password: \\n{}'.format(Output))"
   ]
  }
 ],
 "metadata": {
  "kernelspec": {
   "display_name": "Python 3 (ipykernel)",
   "language": "python",
   "name": "python3"
  },
  "language_info": {
   "codemirror_mode": {
    "name": "ipython",
    "version": 3
   },
   "file_extension": ".py",
   "mimetype": "text/x-python",
   "name": "python",
   "nbconvert_exporter": "python",
   "pygments_lexer": "ipython3",
   "version": "3.9.6"
  }
 },
 "nbformat": 4,
 "nbformat_minor": 4
}
