{
 "cells": [
  {
   "cell_type": "code",
   "execution_count": 124,
   "metadata": {},
   "outputs": [],
   "source": [
    "import re "
   ]
  },
  {
   "cell_type": "code",
   "execution_count": 125,
   "metadata": {},
   "outputs": [],
   "source": [
    "###Q1\n",
    "#Write the regular expressions for the following questions (50 points).\n",
    "#Find all words with length = 3\n",
    "#Find all words of length 4 to 6 characters\n",
    "#Find all words that start with ’J’\n",
    "#Find all words that ends with “es”\n",
    "#Find all signed integer numbers"
   ]
  },
  {
   "cell_type": "code",
   "execution_count": 126,
   "metadata": {},
   "outputs": [],
   "source": [
    "string1 = '''How often have I said (about -867075769 times) to you that when you have eliminated the impossibles, \n",
    "whatever remains, however improbable, must be the truth? \n",
    "I never guess. It is a shocking habit destructive to the logical faculty.\n",
    "You see, but you Just do not observe.'''"
   ]
  },
  {
   "cell_type": "code",
   "execution_count": 127,
   "metadata": {},
   "outputs": [
    {
     "name": "stdout",
     "output_type": "stream",
     "text": [
      "['How', 'you', 'you', 'the', 'the', 'the', 'You', 'see', 'but', 'you', 'not']\n"
     ]
    }
   ],
   "source": [
    "#Find all words with length = 3\n",
    "word_of_3 = re.findall(r'\\b[a-zA-Z]{3}\\b', string1)\n",
    "print(word_of_3)"
   ]
  },
  {
   "cell_type": "code",
   "execution_count": 128,
   "metadata": {},
   "outputs": [
    {
     "name": "stdout",
     "output_type": "stream",
     "text": [
      "['often', 'have', 'said', 'about', 'times', 'that', 'when', 'have', 'must', 'truth', 'never', 'guess', 'habit', 'Just']\n"
     ]
    }
   ],
   "source": [
    "#Find all words of length 4 to 6 characters\n",
    "word_of_range = re.findall(r'\\b[a-zA-Z]{4,6}\\b', string1)\n",
    "print(word_of_range)"
   ]
  },
  {
   "cell_type": "code",
   "execution_count": 140,
   "metadata": {},
   "outputs": [
    {
     "name": "stdout",
     "output_type": "stream",
     "text": [
      "['Just']\n"
     ]
    }
   ],
   "source": [
    "#Find all words that start with ’J’\n",
    "word_start_j = re.findall(r'\\bJ[a-zA-Z]+\\b', string1)\n",
    "print(word_start_j)"
   ]
  },
  {
   "cell_type": "code",
   "execution_count": 142,
   "metadata": {},
   "outputs": [
    {
     "name": "stdout",
     "output_type": "stream",
     "text": [
      "['times', 'impossibles']\n"
     ]
    }
   ],
   "source": [
    "#Find all words that ends with “es”\n",
    "word_ends_es = re.findall(r'[a-zA-Z]+es\\b', string1)\n",
    "print(word_ends_es)"
   ]
  },
  {
   "cell_type": "code",
   "execution_count": 131,
   "metadata": {},
   "outputs": [
    {
     "name": "stdout",
     "output_type": "stream",
     "text": [
      "['-867075769']\n"
     ]
    }
   ],
   "source": [
    "#Find all signed integer numbers\n",
    "signed_integer = re.findall(r\"[-|+][0-9]+\", string1)\n",
    "print(signed_integer)"
   ]
  },
  {
   "cell_type": "code",
   "execution_count": 132,
   "metadata": {},
   "outputs": [],
   "source": [
    "###Q2\n",
    "#Write the regular expressions for the following points (50 points).\n",
    "#Dollar amount with optional cents (e.g. $0.33, $784)\n",
    "#Time of the day (e.g. 12:15am, 3:34pm)\n",
    "#HTML headers (<h1> to <h6> and <H1> to <H6>)\n",
    "#Match urls only of the form http://www.alphanumeric.com\n",
    "#Match an email of the form username@domain (assume that the domain can be of the form alphanumeric.alphanumeric or alphanumeric.alphanumeric.alphanumeric)"
   ]
  },
  {
   "cell_type": "code",
   "execution_count": 133,
   "metadata": {},
   "outputs": [
    {
     "name": "stdout",
     "output_type": "stream",
     "text": [
      "['$0.33', '$784', '$6768.54']\n"
     ]
    }
   ],
   "source": [
    "#Dollar amount with optional cents (e.g. $0.33, $784)\n",
    "cash_bills = '$0.33, $784, $6768.54'\n",
    "values = re.findall(r'\\$[0-9]+\\.?[0-9]*', cash_bills)\n",
    "print(values)"
   ]
  },
  {
   "cell_type": "code",
   "execution_count": 145,
   "metadata": {},
   "outputs": [
    {
     "name": "stdout",
     "output_type": "stream",
     "text": [
      "['12:15am', '3:34pm', '5:54am', '8:49am', '11:03pm']\n"
     ]
    }
   ],
   "source": [
    "#Time of the day (e.g. 12:15am, 3:34pm)\n",
    "time_of_day = '12:15am, 3:34pm, 5:54am, 8:49am, 11:03pm'\n",
    "time = re.findall(r'[0-9]{1,2}:[0-9]+[a|p]m', time_of_day)\n",
    "print(time)"
   ]
  },
  {
   "cell_type": "code",
   "execution_count": 135,
   "metadata": {},
   "outputs": [
    {
     "name": "stdout",
     "output_type": "stream",
     "text": [
      "['<h1>', '<h6>', '<H1>', '<H6>', '<h2>', '<H2>']\n"
     ]
    }
   ],
   "source": [
    "#HTML headers (<h1> to <h6> and <H1> to <H6>)\n",
    "html_header = \"<h1> to <h6> and <H1> to <H6>, <h2> this is a heading <H2>\"\n",
    "headers = re.findall(r'<[h|H]\\d+>', html_header)\n",
    "print(headers)"
   ]
  },
  {
   "cell_type": "code",
   "execution_count": 136,
   "metadata": {},
   "outputs": [
    {
     "name": "stdout",
     "output_type": "stream",
     "text": [
      "['http://www.testurl56.com', 'http://www.123testurl.com']\n"
     ]
    }
   ],
   "source": [
    "#Match urls only of the form http://www.alphanumeric.com\n",
    "url = 'http://www.testurl56.com, http://www.123testurl.com, http://test_url56.com'\n",
    "url_1 = re.findall(r'http:\\/\\/w{3}\\.[a-zA-Z0-9]*\\.com', url)\n",
    "print(url_1)"
   ]
  },
  {
   "cell_type": "code",
   "execution_count": 137,
   "metadata": {},
   "outputs": [
    {
     "name": "stdout",
     "output_type": "stream",
     "text": [
      "['dd.dd@uci.edu', 'darshanal1@exchange.uci77', 'dd1@ad.uci.edu', 'ddl1@uci.edu', 'dd@amazon.com', 'ddaga@microsoft.com']\n"
     ]
    }
   ],
   "source": [
    "#Match an email of the form username@domain (assume that the domain can be of the form alphanumeric.alphanumeric \n",
    "#or alphanumeric.alphanumeric.alphanumeric)\n",
    "\n",
    "emails = '''dd.dd@uci.edu\n",
    "darshanal1@exchange.uci77.edu\n",
    "dd1@ad.uci.edu\n",
    "ddl1@uci.edu\n",
    "dd@amazon.com\n",
    "ddaga@microsoft.com'''\n",
    "\n",
    "email = re.findall(r'[a-z0-9]*\\.?[a-z0-9]*@[a-z]*\\.?[a-z]*\\.?\\w+', emails)\n",
    "print(email)"
   ]
  }
 ],
 "metadata": {
  "kernelspec": {
   "display_name": "Python 3",
   "language": "python",
   "name": "python3"
  },
  "language_info": {
   "codemirror_mode": {
    "name": "ipython",
    "version": 3
   },
   "file_extension": ".py",
   "mimetype": "text/x-python",
   "name": "python",
   "nbconvert_exporter": "python",
   "pygments_lexer": "ipython3",
   "version": "3.8.3"
  }
 },
 "nbformat": 4,
 "nbformat_minor": 4
}
